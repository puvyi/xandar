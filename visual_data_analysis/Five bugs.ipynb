{
 "cells": [
  {
   "cell_type": "code",
   "execution_count": 1,
   "id": "7d6e3c20",
   "metadata": {},
   "outputs": [],
   "source": [
    "import pandas as pd # Bug 1 : as pd"
   ]
  },
  {
   "cell_type": "code",
   "execution_count": 2,
   "id": "55f6c5aa",
   "metadata": {},
   "outputs": [],
   "source": [
    "spices = ['One-Hot Chili Peppers',\n",
    "          'Bayesian Basil',\n",
    "          'Tensor Thyme', # Bug 2 : Missing ','\n",
    "          'Linear Lavender',\n",
    "          'Artificial Neural Nutmeg',\n",
    "          'Polynomial Peppermint',\n",
    "          'Sigmoid Saffron'\n",
    "          ]"
   ]
  },
  {
   "cell_type": "code",
   "execution_count": 3,
   "id": "784c262f",
   "metadata": {},
   "outputs": [],
   "source": [
    "participants = [2, 6, 9, 9, 9, 8, 5] # Bug 3 : size of participants < size of spices"
   ]
  },
  {
   "cell_type": "code",
   "execution_count": 4,
   "id": "ddfe71e4",
   "metadata": {},
   "outputs": [],
   "source": [
    "df = pd.DataFrame({'name': spices, \n",
    "                   'participants': participants\n",
    "                   })"
   ]
  },
  {
   "cell_type": "code",
   "execution_count": 6,
   "id": "42d5bd36",
   "metadata": {},
   "outputs": [
    {
     "name": "stdout",
     "output_type": "stream",
     "text": [
      "                       name  participants\n",
      "2              Tensor Thyme             9\n",
      "3           Linear Lavender             9\n",
      "4  Artificial Neural Nutmeg             9\n",
      "5     Polynomial Peppermint             8\n",
      "1            Bayesian Basil             6\n",
      "6           Sigmoid Saffron             5\n",
      "0     One-Hot Chili Peppers             2\n"
     ]
    }
   ],
   "source": [
    "print(df.sort_values(by='participants', ascending=False)) # Bug 4 : Missing df."
   ]
  },
  {
   "cell_type": "code",
   "execution_count": 8,
   "id": "7c735c0e",
   "metadata": {},
   "outputs": [
    {
     "name": "stdout",
     "output_type": "stream",
     "text": [
      "\n",
      "total participants: 48\n"
     ]
    }
   ],
   "source": [
    "print(\"\\ntotal participants:\", sum(df['participants'])) # Bug 5 : not df[sum(['participants'])]"
   ]
  },
  {
   "cell_type": "code",
   "execution_count": 6,
   "id": "4068d796",
   "metadata": {},
   "outputs": [],
   "source": [
    "\n",
    "import pandas as pd\n",
    "import numpy as np"
   ]
  },
  {
   "cell_type": "markdown",
   "id": "6daec422",
   "metadata": {},
   "source": [
    "You might try one of the following:\n",
    "1. \n",
    "\n",
    "use a single for loop"
   ]
  },
  {
   "cell_type": "code",
   "execution_count": 18,
   "id": "56aee9b5",
   "metadata": {},
   "outputs": [],
   "source": [
    "def mean(x):\n",
    "    sum=0\n",
    "    for i in x:\n",
    "        sum+=i\n",
    "    return sum/len(x)\n"
   ]
  },
  {
   "cell_type": "code",
   "execution_count": 8,
   "id": "79963933",
   "metadata": {},
   "outputs": [],
   "source": [
    "x = [2, 3, 4, 3, 5, 3, 1]\n",
    "\n",
    "result = mean(x)\n",
    "\n",
    "assert result == pd.Series(x).mean()"
   ]
  },
  {
   "cell_type": "code",
   "execution_count": 9,
   "id": "b115d2aa",
   "metadata": {},
   "outputs": [
    {
     "data": {
      "text/plain": [
       "3.0"
      ]
     },
     "execution_count": 9,
     "metadata": {},
     "output_type": "execute_result"
    }
   ],
   "source": [
    "result"
   ]
  },
  {
   "cell_type": "markdown",
   "id": "4a969ad2",
   "metadata": {},
   "source": [
    "2. do not use a for loop at all"
   ]
  },
  {
   "cell_type": "code",
   "execution_count": 10,
   "id": "b0f869b2",
   "metadata": {},
   "outputs": [],
   "source": [
    "def mean1(x):\n",
    "    return sum(x)/len(x)"
   ]
  },
  {
   "cell_type": "code",
   "execution_count": 16,
   "id": "bf0c8273",
   "metadata": {},
   "outputs": [
    {
     "name": "stdout",
     "output_type": "stream",
     "text": [
      "4.428571428571429\n"
     ]
    }
   ],
   "source": [
    "x = [2, 3, 4, 13, 5, 3, 1]\n",
    "\n",
    "result = mean1(x)\n",
    "\n",
    "assert result == pd.Series(x).mean()\n",
    "\n",
    "print(result)"
   ]
  },
  {
   "cell_type": "markdown",
   "id": "587be914",
   "metadata": {},
   "source": [
    "3. implement other metrics\n",
    "\n",
    "    "
   ]
  },
  {
   "cell_type": "code",
   "execution_count": 17,
   "id": "7b5596dc",
   "metadata": {},
   "outputs": [
    {
     "name": "stdout",
     "output_type": "stream",
     "text": [
      "4.428571428571429\n"
     ]
    }
   ],
   "source": [
    "def mean2(x):\n",
    "    return np.mean(x)\n",
    "\n",
    "x = [2, 3, 4, 13, 5, 3, 1]\n",
    "\n",
    "result = mean2(x)\n",
    "\n",
    "assert result == pd.Series(x).mean()\n",
    "print(mean2(x))"
   ]
  },
  {
   "cell_type": "code",
   "execution_count": null,
   "id": "513d26ea",
   "metadata": {},
   "outputs": [],
   "source": []
  }
 ],
 "metadata": {
  "kernelspec": {
   "display_name": "Python 3 (ipykernel)",
   "language": "python",
   "name": "python3"
  },
  "language_info": {
   "codemirror_mode": {
    "name": "ipython",
    "version": 3
   },
   "file_extension": ".py",
   "mimetype": "text/x-python",
   "name": "python",
   "nbconvert_exporter": "python",
   "pygments_lexer": "ipython3",
   "version": "3.11.5"
  }
 },
 "nbformat": 4,
 "nbformat_minor": 5
}
